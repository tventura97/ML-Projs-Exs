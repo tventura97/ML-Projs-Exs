{
 "cells": [
  {
   "cell_type": "code",
   "execution_count": 2,
   "metadata": {},
   "outputs": [
    {
     "name": "stderr",
     "output_type": "stream",
     "text": [
      "Using TensorFlow backend.\n"
     ]
    }
   ],
   "source": [
    "#import dependencies\n",
    "\n",
    "import keras\n",
    "from keras.datasets import mnist\n",
    "from keras.models import Sequential\n",
    "from keras.layers import Dense, Dropout\n",
    "from keras.layers import Flatten, MaxPooling2D, Conv2D\n",
    "from keras.callbacks import TensorBoard"
   ]
  },
  {
   "cell_type": "code",
   "execution_count": 3,
   "metadata": {},
   "outputs": [],
   "source": [
    "(X_train,y_train), (X_test, y_test) = mnist.load_data()\n",
    "\n",
    "X_train = X_train.reshape(60000,28,28,1).astype('float32')\n",
    "X_test = X_test.reshape(10000,28,28,1).astype('float32')\n",
    "\n",
    "X_train /= 255\n",
    "X_test /= 255\n",
    "\n",
    "n_classes = 10\n",
    "y_train = keras.utils.to_categorical(y_train, n_classes)\n",
    "y_test = keras.utils.to_categorical(y_test, n_classes)"
   ]
  },
  {
   "cell_type": "code",
   "execution_count": 4,
   "metadata": {},
   "outputs": [],
   "source": [
    "model = Sequential()\n",
    "model.add(Conv2D(32, kernel_size=(3,3), activation='relu', input_shape=(28,28,1)) )\n",
    "model.add(Conv2D(64, kernel_size=(3,3), activation='relu'))\n",
    "model.add(MaxPooling2D(pool_size=(2,2)))\n",
    "model.add(Dropout(0.25))\n",
    "model.add(Flatten())          \n",
    "model.add(Dense(128, activation='relu'))\n",
    "model.add(Dropout(0.5))\n",
    "model.add(Dense(n_classes, activation='softmax'))"
   ]
  },
  {
   "cell_type": "code",
   "execution_count": 5,
   "metadata": {},
   "outputs": [],
   "source": [
    "model.compile(loss='categorical_crossentropy', optimizer='adam', metrics=['accuracy'])\n"
   ]
  },
  {
   "cell_type": "code",
   "execution_count": 6,
   "metadata": {},
   "outputs": [],
   "source": [
    "tensor_board = TensorBoard('./logs/LeNet-MNIST-1')"
   ]
  },
  {
   "cell_type": "code",
   "execution_count": 7,
   "metadata": {},
   "outputs": [
    {
     "name": "stdout",
     "output_type": "stream",
     "text": [
      "Train on 60000 samples, validate on 10000 samples\n",
      "Epoch 1/25\n",
      "60000/60000 [==============================] - 21s 355us/step - loss: 0.2374 - acc: 0.9274 - val_loss: 0.0531 - val_acc: 0.9821\n",
      "Epoch 2/25\n",
      "60000/60000 [==============================] - 20s 328us/step - loss: 0.0826 - acc: 0.9757 - val_loss: 0.0340 - val_acc: 0.9888\n",
      "Epoch 3/25\n",
      "60000/60000 [==============================] - 20s 330us/step - loss: 0.0603 - acc: 0.9815 - val_loss: 0.0322 - val_acc: 0.9883\n",
      "Epoch 4/25\n",
      "60000/60000 [==============================] - 20s 333us/step - loss: 0.0488 - acc: 0.9849 - val_loss: 0.0276 - val_acc: 0.9908\n",
      "Epoch 5/25\n",
      "60000/60000 [==============================] - 20s 335us/step - loss: 0.0425 - acc: 0.9863 - val_loss: 0.0262 - val_acc: 0.9912\n",
      "Epoch 6/25\n",
      "60000/60000 [==============================] - 20s 339us/step - loss: 0.0371 - acc: 0.9885 - val_loss: 0.0267 - val_acc: 0.9914\n",
      "Epoch 7/25\n",
      "60000/60000 [==============================] - 20s 341us/step - loss: 0.0323 - acc: 0.9901 - val_loss: 0.0269 - val_acc: 0.9926\n",
      "Epoch 8/25\n",
      "60000/60000 [==============================] - 20s 333us/step - loss: 0.0263 - acc: 0.9915 - val_loss: 0.0251 - val_acc: 0.9926\n",
      "Epoch 9/25\n",
      "60000/60000 [==============================] - 20s 328us/step - loss: 0.0267 - acc: 0.9913 - val_loss: 0.0274 - val_acc: 0.9916\n",
      "Epoch 10/25\n",
      "60000/60000 [==============================] - 20s 340us/step - loss: 0.0248 - acc: 0.9919 - val_loss: 0.0288 - val_acc: 0.9915\n",
      "Epoch 11/25\n",
      "60000/60000 [==============================] - 20s 340us/step - loss: 0.0227 - acc: 0.9921 - val_loss: 0.0273 - val_acc: 0.9921\n",
      "Epoch 12/25\n",
      "60000/60000 [==============================] - 20s 335us/step - loss: 0.0200 - acc: 0.9933 - val_loss: 0.0311 - val_acc: 0.9906\n",
      "Epoch 13/25\n",
      "60000/60000 [==============================] - 20s 339us/step - loss: 0.0195 - acc: 0.9937 - val_loss: 0.0269 - val_acc: 0.9925\n",
      "Epoch 14/25\n",
      "60000/60000 [==============================] - 20s 337us/step - loss: 0.0176 - acc: 0.9943 - val_loss: 0.0280 - val_acc: 0.9921\n",
      "Epoch 15/25\n",
      "60000/60000 [==============================] - 20s 340us/step - loss: 0.0159 - acc: 0.9943 - val_loss: 0.0307 - val_acc: 0.9924\n",
      "Epoch 16/25\n",
      "60000/60000 [==============================] - 20s 335us/step - loss: 0.0151 - acc: 0.9951 - val_loss: 0.0276 - val_acc: 0.9933\n",
      "Epoch 17/25\n",
      "60000/60000 [==============================] - 20s 338us/step - loss: 0.0161 - acc: 0.9945 - val_loss: 0.0317 - val_acc: 0.9911\n",
      "Epoch 18/25\n",
      "60000/60000 [==============================] - 20s 330us/step - loss: 0.0143 - acc: 0.9953 - val_loss: 0.0285 - val_acc: 0.9924\n",
      "Epoch 19/25\n",
      "60000/60000 [==============================] - 20s 335us/step - loss: 0.0138 - acc: 0.9955 - val_loss: 0.0260 - val_acc: 0.9924\n",
      "Epoch 20/25\n",
      "60000/60000 [==============================] - 20s 330us/step - loss: 0.0133 - acc: 0.9957 - val_loss: 0.0282 - val_acc: 0.9919\n",
      "Epoch 21/25\n",
      "60000/60000 [==============================] - 20s 337us/step - loss: 0.0118 - acc: 0.9959 - val_loss: 0.0277 - val_acc: 0.9935\n",
      "Epoch 22/25\n",
      "60000/60000 [==============================] - 20s 336us/step - loss: 0.0125 - acc: 0.9960 - val_loss: 0.0327 - val_acc: 0.9919\n",
      "Epoch 23/25\n",
      "60000/60000 [==============================] - 20s 335us/step - loss: 0.0123 - acc: 0.9961 - val_loss: 0.0297 - val_acc: 0.9929\n",
      "Epoch 24/25\n",
      "60000/60000 [==============================] - 20s 335us/step - loss: 0.0106 - acc: 0.9967 - val_loss: 0.0314 - val_acc: 0.9930\n",
      "Epoch 25/25\n",
      "60000/60000 [==============================] - 20s 335us/step - loss: 0.0109 - acc: 0.9965 - val_loss: 0.0327 - val_acc: 0.9929\n"
     ]
    },
    {
     "data": {
      "text/plain": [
       "<keras.callbacks.History at 0x1ba48fa80f0>"
      ]
     },
     "execution_count": 7,
     "metadata": {},
     "output_type": "execute_result"
    }
   ],
   "source": [
    "model.fit(X_train, y_train, batch_size=128, epochs=25, verbose=1,\n",
    "          validation_data=(X_test,y_test), callbacks=[tensor_board])"
   ]
  },
  {
   "cell_type": "code",
   "execution_count": null,
   "metadata": {},
   "outputs": [],
   "source": []
  }
 ],
 "metadata": {
  "kernelspec": {
   "display_name": "TensorFlow-GPU",
   "language": "python",
   "name": "tf-gpu"
  },
  "language_info": {
   "codemirror_mode": {
    "name": "ipython",
    "version": 3
   },
   "file_extension": ".py",
   "mimetype": "text/x-python",
   "name": "python",
   "nbconvert_exporter": "python",
   "pygments_lexer": "ipython3",
   "version": "3.6.6"
  }
 },
 "nbformat": 4,
 "nbformat_minor": 2
}
